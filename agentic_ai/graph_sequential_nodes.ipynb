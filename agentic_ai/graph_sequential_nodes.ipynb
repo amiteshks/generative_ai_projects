{
 "cells": [
  {
   "cell_type": "code",
   "execution_count": 3,
   "id": "41dce81f",
   "metadata": {},
   "outputs": [],
   "source": [
    "# python -m venv .venv\n",
    "# source .venv/bin/activate  # On Windows, use `.venv\\Scripts\\activate`\n",
    "# pip install langgraph"
   ]
  },
  {
   "cell_type": "markdown",
   "id": "17b26a84",
   "metadata": {},
   "source": [
    "### Build a simple sequential graph using Langgraph"
   ]
  },
  {
   "cell_type": "code",
   "execution_count": 5,
   "id": "c1f19701",
   "metadata": {},
   "outputs": [],
   "source": [
    "from langgraph.graph import StateGraph, START, END"
   ]
  },
  {
   "cell_type": "code",
   "execution_count": 36,
   "id": "c283353a",
   "metadata": {},
   "outputs": [
    {
     "name": "stdout",
     "output_type": "stream",
     "text": [
      "+-----------+  \n",
      "| __start__ |  \n",
      "+-----------+  \n",
      "      *        \n",
      "      *        \n",
      "      *        \n",
      "    +---+      \n",
      "    | A |      \n",
      "    +---+      \n",
      "      *        \n",
      "      *        \n",
      "      *        \n",
      "    +---+      \n",
      "    | B |      \n",
      "    +---+      \n",
      "      *        \n",
      "      *        \n",
      "      *        \n",
      " +---------+   \n",
      " | __end__ |   \n",
      " +---------+   \n",
      "Graph saved as graph.png\n",
      "A is running\n",
      "B is running\n"
     ]
    },
    {
     "data": {
      "text/plain": [
       "{}"
      ]
     },
     "execution_count": 36,
     "metadata": {},
     "output_type": "execute_result"
    }
   ],
   "source": [
    "def node_a_tool(dict):\n",
    "    print(\"A is running\")\n",
    "    return {}\n",
    "\n",
    "def node_b_tool(dict):\n",
    "    print(\"B is running\")\n",
    "    return {}\n",
    "\n",
    "builder = StateGraph(dict)  \n",
    "builder.add_node(\"A\", node_a_tool)\n",
    "builder.add_node(\"B\", node_b_tool)\n",
    "\n",
    "builder.add_edge(START, \"A\")\n",
    "builder.add_edge(\"A\", \"B\")\n",
    "builder.add_edge(\"A\", END)\n",
    "\n",
    "\n",
    "graph = builder.compile()\n",
    "\n",
    "# --- Display as ASCII ---\n",
    "print(graph.get_graph().draw_ascii())\n",
    "\n",
    "graph.get_graph().draw_png(\"images/graph_sequential.jpg\")\n",
    "print(\"Graph saved as graph.png\")\n",
    "\n",
    "initial_state = {}\n",
    "graph.invoke(initial_state)\n"
   ]
  }
 ],
 "metadata": {
  "kernelspec": {
   "display_name": ".venv",
   "language": "python",
   "name": "python3"
  },
  "language_info": {
   "codemirror_mode": {
    "name": "ipython",
    "version": 3
   },
   "file_extension": ".py",
   "mimetype": "text/x-python",
   "name": "python",
   "nbconvert_exporter": "python",
   "pygments_lexer": "ipython3",
   "version": "3.13.5"
  }
 },
 "nbformat": 4,
 "nbformat_minor": 5
}
