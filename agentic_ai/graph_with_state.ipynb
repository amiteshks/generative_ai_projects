{
 "cells": [
  {
   "cell_type": "code",
   "execution_count": 1,
   "id": "c1f19701",
   "metadata": {},
   "outputs": [],
   "source": [
    "from langgraph.graph import StateGraph, START, END"
   ]
  },
  {
   "cell_type": "code",
   "execution_count": 1,
   "id": "c283353a",
   "metadata": {},
   "outputs": [
    {
     "name": "stdout",
     "output_type": "stream",
     "text": [
      "+-----------+  \n",
      "| __start__ |  \n",
      "+-----------+  \n",
      "      *        \n",
      "      *        \n",
      "      *        \n",
      "    +---+      \n",
      "    | A |      \n",
      "    +---+      \n",
      "      *        \n",
      "      *        \n",
      "      *        \n",
      "    +---+      \n",
      "    | B |      \n",
      "    +---+      \n",
      "      *        \n",
      "      *        \n",
      "      *        \n",
      " +---------+   \n",
      " | __end__ |   \n",
      " +---------+   \n",
      "Graph saved as graph_with_state.png\n",
      "A ran\n",
      "B ran\n",
      "{'name': 'Node B', 'age': 15}\n"
     ]
    }
   ],
   "source": [
    "from typing import TypedDict, Optional\n",
    "from langgraph.graph import StateGraph, START, END\n",
    "\n",
    "class MyState(TypedDict):\n",
    "    name: Optional[str]\n",
    "    age: Optional[int]\n",
    "\n",
    "def node_a(state: MyState) -> MyState:\n",
    "    print(\"A ran\")\n",
    "    state[\"name\"] = \"Node A\"\n",
    "    state[\"age\"] = 10\n",
    "    # print(f\"{state[\"name\"]} is {state[\"age\"]} years old\")\n",
    "    return state\n",
    "\n",
    "def node_b(state: MyState) -> MyState:\n",
    "    print(\"B ran\")\n",
    "    state[\"name\"] = \"Node B\"\n",
    "    state[\"age\"] = (state[\"age\"] or 0) + 5\n",
    "    # print(f\"{state[\"name\"]} is {state[\"age\"]} years old\")\n",
    "    return state\n",
    "\n",
    "\n",
    "builder = StateGraph(MyState)\n",
    "builder.add_node(\"A\", node_a)\n",
    "builder.add_node(\"B\", node_b)\n",
    "\n",
    "builder.add_edge(START, \"A\")\n",
    "builder.add_edge(\"A\", \"B\")\n",
    "builder.add_edge(\"B\", END)\n",
    "\n",
    "graph = builder.compile()\n",
    "\n",
    "print(graph.get_graph().draw_ascii())\n",
    "graph.get_graph().draw_png(\"images/graph_with_state.png\")\n",
    "print(\"Graph saved as graph_with_state.png\")\n",
    "\n",
    "result = graph.invoke({})\n",
    "print(result)\n",
    "\n",
    "# Initial state: \n",
    "# state = {}\n",
    "\n",
    "# After Node A executes:\n",
    "# state = {\"name\": \"Node A\", \"age\": 10}\n",
    "\n",
    "\n",
    "# After Node B executes:\n",
    "# state = {\"name\": \"Node B\", \"age\": 15}\n",
    "\n",
    "# Final state after graph execution: \n",
    "# state = {\"name\": \"Node B\", \"age\": 15}\n"
   ]
  },
  {
   "cell_type": "code",
   "execution_count": null,
   "id": "1a91826f",
   "metadata": {},
   "outputs": [],
   "source": [
    "\n"
   ]
  },
  {
   "cell_type": "code",
   "execution_count": null,
   "id": "1c491f51",
   "metadata": {},
   "outputs": [],
   "source": []
  },
  {
   "cell_type": "code",
   "execution_count": null,
   "id": "68850f81",
   "metadata": {},
   "outputs": [],
   "source": []
  }
 ],
 "metadata": {
  "kernelspec": {
   "display_name": ".venv",
   "language": "python",
   "name": "python3"
  },
  "language_info": {
   "codemirror_mode": {
    "name": "ipython",
    "version": 3
   },
   "file_extension": ".py",
   "mimetype": "text/x-python",
   "name": "python",
   "nbconvert_exporter": "python",
   "pygments_lexer": "ipython3",
   "version": "3.13.5"
  }
 },
 "nbformat": 4,
 "nbformat_minor": 5
}
