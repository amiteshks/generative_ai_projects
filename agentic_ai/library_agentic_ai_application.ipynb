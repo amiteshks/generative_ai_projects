{
 "cells": [
  {
   "cell_type": "code",
   "execution_count": 3,
   "id": "f95de6f5",
   "metadata": {},
   "outputs": [
    {
     "name": "stdout",
     "output_type": "stream",
     "text": [
      "               +-----------+              \n",
      "               | __start__ |              \n",
      "               +-----------+              \n",
      "                     *                    \n",
      "                     *                    \n",
      "                     *                    \n",
      "            +-----------------+           \n",
      "            | ClassifierAgent |           \n",
      "            +-----------------+           \n",
      "              ***          **             \n",
      "             *               **           \n",
      "           **                  **         \n",
      "+---------------+           +----------+  \n",
      "| CheckoutAgent |           | FAQAgent |  \n",
      "+---------------+           +----------+  \n",
      "              ***          **             \n",
      "                 *       **               \n",
      "                  **   **                 \n",
      "             +---------------+            \n",
      "             | ResponseAgent |            \n",
      "             +---------------+            \n",
      "                     *                    \n",
      "                     *                    \n",
      "                     *                    \n",
      "                +---------+               \n",
      "                | __end__ |               \n",
      "                +---------+               \n",
      "ClassifierAgent ran\n",
      "state {'question': 'Is The Hobbit available?'}\n",
      "CheckoutAgent ran\n",
      "FAQAgent ran\n",
      "ResponseAgent ran\n",
      "\n",
      "--- Final Answer ---\n",
      "Q: Is The Hobbit available?\n",
      "FAQ: Default FAQ: Library rules apply\n",
      "Checkout: Book available: The Hobbit\n"
     ]
    }
   ],
   "source": [
    "from typing import TypedDict\n",
    "from langgraph.graph import StateGraph, START, END\n",
    "\n",
    "# --- Shared State ---\n",
    "class LibraryState(TypedDict):\n",
    "    question: str\n",
    "    faq_answer: str\n",
    "    checkout_info: str\n",
    "    final_answer: str\n",
    "\n",
    "\n",
    "# --- Agents (nodes) ---\n",
    "def ClassifierAgent(state: LibraryState):\n",
    "    print(\"ClassifierAgent ran\")\n",
    "    print (f\"state\", state)   \n",
    "    q = state[\"question\"].lower()\n",
    "\n",
    "    # Normally you'd use an LLM; here we mock branching logic\n",
    "    if \"available\" in q or \"checkout\" in q:\n",
    "        return {\"faq_answer\": \"\", \"checkout_info\": \"Book available: The Hobbit\"}\n",
    "    else:\n",
    "        return {\"faq_answer\": \"Library opens at 9 AM\", \"checkout_info\": \"\"}\n",
    "\n",
    "\n",
    "def FAQAgent(state: LibraryState):\n",
    "    print(\"FAQAgent ran\")\n",
    "    if not state.get(\"faq_answer\"):\n",
    "        return {\"faq_answer\": \"Default FAQ: Library rules apply\"}\n",
    "    return {}\n",
    "\n",
    "\n",
    "def CheckoutAgent(state: LibraryState):\n",
    "    print(\"CheckoutAgent ran\")\n",
    "    if not state.get(\"checkout_info\"):\n",
    "        return {\"checkout_info\": \"Checkout info: Not requested\"}\n",
    "    return {}\n",
    "\n",
    "\n",
    "def ResponseAgent(state: LibraryState):\n",
    "    print(\"ResponseAgent ran\")\n",
    "    final = f\"Q: {state['question']}\\n\"\n",
    "    if state.get(\"faq_answer\"):\n",
    "        final += f\"FAQ: {state['faq_answer']}\\n\"\n",
    "    if state.get(\"checkout_info\"):\n",
    "        final += f\"Checkout: {state['checkout_info']}\"\n",
    "    return {\"final_answer\": final}\n",
    "\n",
    "\n",
    "# --- Build the Graph ---\n",
    "builder = StateGraph(LibraryState)\n",
    "builder.add_node(\"ClassifierAgent\", ClassifierAgent)\n",
    "builder.add_node(\"FAQAgent\", FAQAgent)\n",
    "builder.add_node(\"CheckoutAgent\", CheckoutAgent)\n",
    "builder.add_node(\"ResponseAgent\", ResponseAgent)\n",
    "\n",
    "builder.add_edge(START, \"ClassifierAgent\")\n",
    "builder.add_edge(\"ClassifierAgent\", \"FAQAgent\")\n",
    "builder.add_edge(\"ClassifierAgent\", \"CheckoutAgent\")\n",
    "builder.add_edge(\"FAQAgent\", \"ResponseAgent\")\n",
    "builder.add_edge(\"CheckoutAgent\", \"ResponseAgent\")\n",
    "builder.add_edge(\"ResponseAgent\", END)\n",
    "\n",
    "graph = builder.compile()\n",
    "\n",
    "\n",
    "# --- Visualize ---\n",
    "print(graph.get_graph().draw_ascii())\n",
    "\n",
    "# --- Run ---\n",
    "result = graph.invoke({\"question\": \"Is The Hobbit available?\"})\n",
    "print(\"\\n--- Final Answer ---\")\n",
    "print(result[\"final_answer\"])\n"
   ]
  },
  {
   "cell_type": "code",
   "execution_count": null,
   "id": "45969394",
   "metadata": {},
   "outputs": [
    {
     "name": "stdout",
     "output_type": "stream",
     "text": [
      "Graph saved as graph_parallel.png\n"
     ]
    }
   ],
   "source": [
    "graph.get_graph().draw_png(\"images/agentic_ai_library.png\")\n",
    "print(\"Graph saved as agentic_ai_library.png\")"
   ]
  },
  {
   "cell_type": "code",
   "execution_count": null,
   "id": "34d8aad2",
   "metadata": {},
   "outputs": [],
   "source": []
  }
 ],
 "metadata": {
  "kernelspec": {
   "display_name": ".venv",
   "language": "python",
   "name": "python3"
  },
  "language_info": {
   "codemirror_mode": {
    "name": "ipython",
    "version": 3
   },
   "file_extension": ".py",
   "mimetype": "text/x-python",
   "name": "python",
   "nbconvert_exporter": "python",
   "pygments_lexer": "ipython3",
   "version": "3.13.5"
  }
 },
 "nbformat": 4,
 "nbformat_minor": 5
}
